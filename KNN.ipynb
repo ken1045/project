{
 "cells": [
  {
   "cell_type": "code",
   "execution_count": 1,
   "metadata": {},
   "outputs": [],
   "source": [
    "import pandas as pd\n",
    "import numpy as np"
   ]
  },
  {
   "cell_type": "code",
   "execution_count": 2,
   "metadata": {},
   "outputs": [],
   "source": [
    "data = pd.read_csv(\"Student Details capstone project (1)_latest.csv\")"
   ]
  },
  {
   "cell_type": "code",
   "execution_count": 3,
   "metadata": {},
   "outputs": [
    {
     "data": {
      "text/html": [
       "<div>\n",
       "<style scoped>\n",
       "    .dataframe tbody tr th:only-of-type {\n",
       "        vertical-align: middle;\n",
       "    }\n",
       "\n",
       "    .dataframe tbody tr th {\n",
       "        vertical-align: top;\n",
       "    }\n",
       "\n",
       "    .dataframe thead th {\n",
       "        text-align: right;\n",
       "    }\n",
       "</style>\n",
       "<table border=\"1\" class=\"dataframe\">\n",
       "  <thead>\n",
       "    <tr style=\"text-align: right;\">\n",
       "      <th></th>\n",
       "      <th>Timestamp</th>\n",
       "      <th>Name</th>\n",
       "      <th>Stream of graduation</th>\n",
       "      <th>10th Percentage</th>\n",
       "      <th>12th percentage</th>\n",
       "      <th>10th Maths Marks</th>\n",
       "      <th>12th Maths Marks(If not, Accounts marks)</th>\n",
       "      <th>School Average</th>\n",
       "      <th>sem-I percent / CGPA (undergraduate)</th>\n",
       "      <th>Sem-II percent / CGPA(Undergraduate)</th>\n",
       "      <th>...</th>\n",
       "      <th>Sem-V percent / CGPA(Undergraduate)</th>\n",
       "      <th>Sem-VI percent / CGPA(Undergraduate)</th>\n",
       "      <th>Sem-VII percent / CGPA (for engineering graduate)</th>\n",
       "      <th>Sem-VIII percent / CGPA (for engineering graduate)</th>\n",
       "      <th>Undergraduate_ Average</th>\n",
       "      <th>CAT/XAT/GMAT</th>\n",
       "      <th>ISME_entrance_test</th>\n",
       "      <th>Placeability_scope</th>\n",
       "      <th>Career Interest</th>\n",
       "      <th>Goals</th>\n",
       "    </tr>\n",
       "  </thead>\n",
       "  <tbody>\n",
       "    <tr>\n",
       "      <th>0</th>\n",
       "      <td>8/15/2019 12:31</td>\n",
       "      <td>palak</td>\n",
       "      <td>Science</td>\n",
       "      <td>76.00</td>\n",
       "      <td>78.00</td>\n",
       "      <td>85.0</td>\n",
       "      <td>78</td>\n",
       "      <td>7.92500</td>\n",
       "      <td>7.20</td>\n",
       "      <td>6.90</td>\n",
       "      <td>...</td>\n",
       "      <td>7.30</td>\n",
       "      <td>7.50</td>\n",
       "      <td>0.00</td>\n",
       "      <td>0.0</td>\n",
       "      <td>7.5</td>\n",
       "      <td>71.35</td>\n",
       "      <td>76</td>\n",
       "      <td>Yes</td>\n",
       "      <td>Insurance</td>\n",
       "      <td>Actuary, Data scientist, Risk Manager, Data An...</td>\n",
       "    </tr>\n",
       "    <tr>\n",
       "      <th>1</th>\n",
       "      <td>8/15/2019 12:36</td>\n",
       "      <td>Abhishek</td>\n",
       "      <td>Statistics or Mathematics</td>\n",
       "      <td>79.00</td>\n",
       "      <td>83.00</td>\n",
       "      <td>85.0</td>\n",
       "      <td>78</td>\n",
       "      <td>8.12500</td>\n",
       "      <td>5.90</td>\n",
       "      <td>6.17</td>\n",
       "      <td>...</td>\n",
       "      <td>7.20</td>\n",
       "      <td>7.80</td>\n",
       "      <td>0.00</td>\n",
       "      <td>0.0</td>\n",
       "      <td>7.1</td>\n",
       "      <td>74.00</td>\n",
       "      <td>82</td>\n",
       "      <td>Yes</td>\n",
       "      <td>Consultancy</td>\n",
       "      <td>Associate consultant, Analytics consultant, Da...</td>\n",
       "    </tr>\n",
       "    <tr>\n",
       "      <th>2</th>\n",
       "      <td>8/15/2019 12:47</td>\n",
       "      <td>Mohit Singh</td>\n",
       "      <td>Engineering</td>\n",
       "      <td>68.91</td>\n",
       "      <td>61.38</td>\n",
       "      <td>83.0</td>\n",
       "      <td>58</td>\n",
       "      <td>6.78225</td>\n",
       "      <td>5.33</td>\n",
       "      <td>6.48</td>\n",
       "      <td>...</td>\n",
       "      <td>5.11</td>\n",
       "      <td>5.39</td>\n",
       "      <td>6.33</td>\n",
       "      <td>7.5</td>\n",
       "      <td>5.4</td>\n",
       "      <td>67.00</td>\n",
       "      <td>62</td>\n",
       "      <td>no</td>\n",
       "      <td>Consultancy</td>\n",
       "      <td>Associate consultant, Analytics consultant, Da...</td>\n",
       "    </tr>\n",
       "    <tr>\n",
       "      <th>3</th>\n",
       "      <td>8/15/2019 13:11</td>\n",
       "      <td>siddhesh kanawa</td>\n",
       "      <td>Arts</td>\n",
       "      <td>62.00</td>\n",
       "      <td>63.00</td>\n",
       "      <td>70.0</td>\n",
       "      <td>68</td>\n",
       "      <td>6.57500</td>\n",
       "      <td>8.10</td>\n",
       "      <td>8.40</td>\n",
       "      <td>...</td>\n",
       "      <td>8.70</td>\n",
       "      <td>9.50</td>\n",
       "      <td>0.00</td>\n",
       "      <td>0.0</td>\n",
       "      <td>9.2</td>\n",
       "      <td>81.00</td>\n",
       "      <td>67</td>\n",
       "      <td>Yes</td>\n",
       "      <td>Business management</td>\n",
       "      <td>Project Manager, Wealth  Manager, Business Ana...</td>\n",
       "    </tr>\n",
       "    <tr>\n",
       "      <th>4</th>\n",
       "      <td>8/15/2019 13:20</td>\n",
       "      <td>Pratiskha Dhanawade</td>\n",
       "      <td>Engineering</td>\n",
       "      <td>73.00</td>\n",
       "      <td>67.00</td>\n",
       "      <td>77.0</td>\n",
       "      <td>63</td>\n",
       "      <td>7.00000</td>\n",
       "      <td>6.30</td>\n",
       "      <td>6.47</td>\n",
       "      <td>...</td>\n",
       "      <td>6.70</td>\n",
       "      <td>7.31</td>\n",
       "      <td>0.00</td>\n",
       "      <td>0.0</td>\n",
       "      <td>7.0</td>\n",
       "      <td>64.00</td>\n",
       "      <td>72</td>\n",
       "      <td>Yes</td>\n",
       "      <td>Consultancy</td>\n",
       "      <td>Associate consultant, Analytics consultant, Da...</td>\n",
       "    </tr>\n",
       "  </tbody>\n",
       "</table>\n",
       "<p>5 rows × 22 columns</p>\n",
       "</div>"
      ],
      "text/plain": [
       "         Timestamp                 Name       Stream of graduation  \\\n",
       "0  8/15/2019 12:31                palak                    Science   \n",
       "1  8/15/2019 12:36             Abhishek  Statistics or Mathematics   \n",
       "2  8/15/2019 12:47          Mohit Singh                Engineering   \n",
       "3  8/15/2019 13:11      siddhesh kanawa                       Arts   \n",
       "4  8/15/2019 13:20  Pratiskha Dhanawade                Engineering   \n",
       "\n",
       "   10th Percentage  12th percentage  10th Maths Marks  \\\n",
       "0            76.00            78.00              85.0   \n",
       "1            79.00            83.00              85.0   \n",
       "2            68.91            61.38              83.0   \n",
       "3            62.00            63.00              70.0   \n",
       "4            73.00            67.00              77.0   \n",
       "\n",
       "   12th Maths Marks(If not, Accounts marks)  School Average  \\\n",
       "0                                        78         7.92500   \n",
       "1                                        78         8.12500   \n",
       "2                                        58         6.78225   \n",
       "3                                        68         6.57500   \n",
       "4                                        63         7.00000   \n",
       "\n",
       "   sem-I percent / CGPA (undergraduate)  Sem-II percent / CGPA(Undergraduate)  \\\n",
       "0                                  7.20                                  6.90   \n",
       "1                                  5.90                                  6.17   \n",
       "2                                  5.33                                  6.48   \n",
       "3                                  8.10                                  8.40   \n",
       "4                                  6.30                                  6.47   \n",
       "\n",
       "   ...  Sem-V percent / CGPA(Undergraduate)  \\\n",
       "0  ...                                 7.30   \n",
       "1  ...                                 7.20   \n",
       "2  ...                                 5.11   \n",
       "3  ...                                 8.70   \n",
       "4  ...                                 6.70   \n",
       "\n",
       "   Sem-VI percent / CGPA(Undergraduate)  \\\n",
       "0                                  7.50   \n",
       "1                                  7.80   \n",
       "2                                  5.39   \n",
       "3                                  9.50   \n",
       "4                                  7.31   \n",
       "\n",
       "   Sem-VII percent / CGPA (for engineering graduate)  \\\n",
       "0                                               0.00   \n",
       "1                                               0.00   \n",
       "2                                               6.33   \n",
       "3                                               0.00   \n",
       "4                                               0.00   \n",
       "\n",
       "   Sem-VIII percent / CGPA (for engineering graduate)  Undergraduate_ Average  \\\n",
       "0                                                0.0                      7.5   \n",
       "1                                                0.0                      7.1   \n",
       "2                                                7.5                      5.4   \n",
       "3                                                0.0                      9.2   \n",
       "4                                                0.0                      7.0   \n",
       "\n",
       "   CAT/XAT/GMAT  ISME_entrance_test  Placeability_scope      Career Interest  \\\n",
       "0         71.35                  76                 Yes            Insurance   \n",
       "1         74.00                  82                 Yes          Consultancy   \n",
       "2         67.00                  62                  no          Consultancy   \n",
       "3         81.00                  67                 Yes  Business management   \n",
       "4         64.00                  72                 Yes          Consultancy   \n",
       "\n",
       "                                               Goals  \n",
       "0  Actuary, Data scientist, Risk Manager, Data An...  \n",
       "1  Associate consultant, Analytics consultant, Da...  \n",
       "2  Associate consultant, Analytics consultant, Da...  \n",
       "3  Project Manager, Wealth  Manager, Business Ana...  \n",
       "4  Associate consultant, Analytics consultant, Da...  \n",
       "\n",
       "[5 rows x 22 columns]"
      ]
     },
     "execution_count": 3,
     "metadata": {},
     "output_type": "execute_result"
    }
   ],
   "source": [
    "data.head()"
   ]
  },
  {
   "cell_type": "code",
   "execution_count": 4,
   "metadata": {},
   "outputs": [
    {
     "data": {
      "text/plain": [
       "Index(['Timestamp', 'Name', 'Stream of graduation', '10th Percentage',\n",
       "       '12th percentage', '10th Maths Marks',\n",
       "       '12th Maths Marks(If not, Accounts marks)', 'School Average',\n",
       "       'sem-I percent / CGPA (undergraduate)',\n",
       "       'Sem-II percent / CGPA(Undergraduate)',\n",
       "       'Sem-III percent / CGPA(Undergraduate)',\n",
       "       'Sem-IV percent / CGPA(Undergraduate)',\n",
       "       'Sem-V percent / CGPA(Undergraduate)',\n",
       "       'Sem-VI percent / CGPA(Undergraduate)',\n",
       "       'Sem-VII percent / CGPA (for engineering graduate)',\n",
       "       'Sem-VIII percent / CGPA (for engineering graduate)',\n",
       "       'Undergraduate_ Average', 'CAT/XAT/GMAT', 'ISME_entrance_test',\n",
       "       'Placeability_scope', 'Career Interest', 'Goals'],\n",
       "      dtype='object')"
      ]
     },
     "execution_count": 4,
     "metadata": {},
     "output_type": "execute_result"
    }
   ],
   "source": [
    "data.columns"
   ]
  },
  {
   "cell_type": "code",
   "execution_count": 5,
   "metadata": {},
   "outputs": [],
   "source": [
    "data.drop(columns = [\"Name\",\"Goals\", \"Timestamp\", \"Career Interest\", \"School Average\",\"Stream of graduation\"], inplace=True)\n",
    "target = data.Placeability_scope\n",
    "data.drop(columns = [\"Placeability_scope\"], inplace=True)"
   ]
  },
  {
   "cell_type": "code",
   "execution_count": 6,
   "metadata": {},
   "outputs": [],
   "source": [
    "def encode_target(x):\n",
    "    if x == \"Yes\":\n",
    "        return 1\n",
    "    else:\n",
    "        return 0"
   ]
  },
  {
   "cell_type": "code",
   "execution_count": 7,
   "metadata": {},
   "outputs": [],
   "source": [
    "target = target.apply(lambda x: encode_target(x))"
   ]
  },
  {
   "cell_type": "code",
   "execution_count": 8,
   "metadata": {},
   "outputs": [
    {
     "data": {
      "text/plain": [
       "0     1\n",
       "1     1\n",
       "2     0\n",
       "3     1\n",
       "4     1\n",
       "5     0\n",
       "6     1\n",
       "7     0\n",
       "8     1\n",
       "9     1\n",
       "10    0\n",
       "11    1\n",
       "12    1\n",
       "13    1\n",
       "14    1\n",
       "15    1\n",
       "16    0\n",
       "17    1\n",
       "18    1\n",
       "19    1\n",
       "20    0\n",
       "21    1\n",
       "22    0\n",
       "23    0\n",
       "24    0\n",
       "25    0\n",
       "26    0\n",
       "27    0\n",
       "28    0\n",
       "Name: Placeability_scope, dtype: int64"
      ]
     },
     "execution_count": 8,
     "metadata": {},
     "output_type": "execute_result"
    }
   ],
   "source": [
    "target"
   ]
  },
  {
   "cell_type": "code",
   "execution_count": 9,
   "metadata": {},
   "outputs": [],
   "source": [
    "from sklearn.neighbors import KNeighborsClassifier\n",
    "from sklearn.model_selection import train_test_split"
   ]
  },
  {
   "cell_type": "code",
   "execution_count": 10,
   "metadata": {},
   "outputs": [],
   "source": [
    "train_X, test_X,train_y, test_y = train_test_split(data,target, test_size = 0.3, random_state = 707)"
   ]
  },
  {
   "cell_type": "code",
   "execution_count": 11,
   "metadata": {},
   "outputs": [],
   "source": [
    "knn = KNeighborsClassifier()"
   ]
  },
  {
   "cell_type": "code",
   "execution_count": 12,
   "metadata": {},
   "outputs": [
    {
     "data": {
      "text/plain": [
       "KNeighborsClassifier(algorithm='auto', leaf_size=30, metric='minkowski',\n",
       "           metric_params=None, n_jobs=None, n_neighbors=5, p=2,\n",
       "           weights='uniform')"
      ]
     },
     "execution_count": 12,
     "metadata": {},
     "output_type": "execute_result"
    }
   ],
   "source": [
    "knn.fit(train_X,train_y)"
   ]
  },
  {
   "cell_type": "code",
   "execution_count": 13,
   "metadata": {},
   "outputs": [],
   "source": [
    "preds = knn.predict(test_X)"
   ]
  },
  {
   "cell_type": "code",
   "execution_count": 14,
   "metadata": {},
   "outputs": [],
   "source": [
    "from sklearn.metrics import confusion_matrix, accuracy_score"
   ]
  },
  {
   "cell_type": "code",
   "execution_count": 15,
   "metadata": {},
   "outputs": [
    {
     "name": "stdout",
     "output_type": "stream",
     "text": [
      "[[2 0]\n",
      " [0 7]]\n"
     ]
    }
   ],
   "source": [
    "print(confusion_matrix(test_y,preds))"
   ]
  },
  {
   "cell_type": "code",
   "execution_count": 16,
   "metadata": {},
   "outputs": [
    {
     "name": "stdout",
     "output_type": "stream",
     "text": [
      "Accuracy:  1.0\n"
     ]
    }
   ],
   "source": [
    "print(\"Accuracy: \", accuracy_score(preds,test_y))"
   ]
  },
  {
   "cell_type": "code",
   "execution_count": 17,
   "metadata": {},
   "outputs": [],
   "source": [
    "output = pd.read_csv(\"sample.csv\")"
   ]
  },
  {
   "cell_type": "code",
   "execution_count": 18,
   "metadata": {},
   "outputs": [],
   "source": [
    "output.drop(columns = [\"Name\", \"Timestamp\", \"Career Interest\", \"School Average\",\"Stream of graduation\"], inplace=True)"
   ]
  },
  {
   "cell_type": "code",
   "execution_count": 19,
   "metadata": {},
   "outputs": [],
   "source": [
    "predic = knn.predict(output)"
   ]
  },
  {
   "cell_type": "code",
   "execution_count": 20,
   "metadata": {},
   "outputs": [
    {
     "data": {
      "text/plain": [
       "Index(['10th Percentage', '12th percentage', '10th Maths Marks',\n",
       "       '12th Maths Marks(If not, Accounts marks)',\n",
       "       'sem-I percent / CGPA (undergraduate)',\n",
       "       'Sem-II percent / CGPA(Undergraduate)',\n",
       "       'Sem-III percent / CGPA(Undergraduate)',\n",
       "       'Sem-IV percent / CGPA(Undergraduate)',\n",
       "       'Sem-V percent / CGPA(Undergraduate)',\n",
       "       'Sem-VI percent / CGPA(Undergraduate)',\n",
       "       'Sem-VII percent / CGPA (for engineering graduate)',\n",
       "       'Sem-VIII percent / CGPA (for engineering graduate)',\n",
       "       'Undergraduate_ Average', 'CAT/XAT/GMAT', 'ISME_entrance_test'],\n",
       "      dtype='object')"
      ]
     },
     "execution_count": 20,
     "metadata": {},
     "output_type": "execute_result"
    }
   ],
   "source": [
    "output.columns"
   ]
  },
  {
   "cell_type": "code",
   "execution_count": 21,
   "metadata": {},
   "outputs": [],
   "source": [
    "output['Placeibility_score'] = (output['12th percentage']*0.05)+(output['10th Maths Marks']*0.10)+(output['12th Maths Marks(If not, Accounts marks)']*0.20)+(output['CAT/XAT/GMAT']*0.30)+(output['Undergraduate_ Average']*0.30)+(output['ISME_entrance_test']*0.05)"
   ]
  },
  {
   "cell_type": "code",
   "execution_count": 22,
   "metadata": {},
   "outputs": [],
   "source": [
    "output['Placebility_scope']=predic"
   ]
  },
  {
   "cell_type": "code",
   "execution_count": 23,
   "metadata": {},
   "outputs": [],
   "source": [
    "otp = pd.DataFrame(output)"
   ]
  },
  {
   "cell_type": "code",
   "execution_count": 24,
   "metadata": {},
   "outputs": [],
   "source": [
    "otp.to_csv(r'outputfile.csv')"
   ]
  },
  {
   "cell_type": "code",
   "execution_count": null,
   "metadata": {},
   "outputs": [],
   "source": []
  }
 ],
 "metadata": {
  "kernelspec": {
   "display_name": "Python 3",
   "language": "python",
   "name": "python3"
  },
  "language_info": {
   "codemirror_mode": {
    "name": "ipython",
    "version": 3
   },
   "file_extension": ".py",
   "mimetype": "text/x-python",
   "name": "python",
   "nbconvert_exporter": "python",
   "pygments_lexer": "ipython3",
   "version": "3.7.3"
  }
 },
 "nbformat": 4,
 "nbformat_minor": 2
}
